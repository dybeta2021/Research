{
 "cells": [
  {
   "cell_type": "markdown",
   "id": "70bcafee",
   "metadata": {},
   "source": [
    "https://cloud.tencent.com/developer/article/1893201"
   ]
  },
  {
   "cell_type": "code",
   "execution_count": 1,
   "id": "af30afa1",
   "metadata": {},
   "outputs": [
    {
     "data": {
      "text/html": [
       "<style>.container { width:100% !important; }</style>"
      ],
      "text/plain": [
       "<IPython.core.display.HTML object>"
      ]
     },
     "metadata": {},
     "output_type": "display_data"
    },
    {
     "name": "stdout",
     "output_type": "stream",
     "text": [
      "Windows\n",
      "D:\\github\\xueqiu\\Date20221228 绿巨柱分析\n"
     ]
    }
   ],
   "source": [
    "# 设置cell宽度\n",
    "from IPython.display import display, HTML\n",
    "display(HTML(\"<style>.container { width:100% !important; }</style>\"))\n",
    "\n",
    "# 警告\n",
    "import warnings\n",
    "warnings.filterwarnings('ignore')\n",
    "\n",
    "# matplotlib\n",
    "from tqdm import tqdm\n",
    "from pprint import pprint\n",
    "from matplotlib import pylab\n",
    "from seaborn import set_style\n",
    "set_style(\"whitegrid\")\n",
    "%matplotlib inline\n",
    "\n",
    "# matplotlib 中文乱码、正负号乱码\n",
    "from platform import system\n",
    "os_name = system()\n",
    "print(os_name)\n",
    "\n",
    "from matplotlib import rcParams\n",
    "rcParams[\"axes.unicode_minus\"]=False #该语句解决图像中的“-”负号的乱码问题\n",
    "if os_name == r\"Windows\":\n",
    "    rcParams[\"font.sans-serif\"]=[\"SimHei\"] #设置字体\n",
    "elif os_name == r\"Darwin\":\n",
    "    rcParams['font.family'] = 'PingFang HK'\n",
    "else:\n",
    "    pass\n",
    "\n",
    "\n",
    "# 调整运行根目录\n",
    "import os\n",
    "# os.chdir(os.path.abspath(os.path.dirname(os.getcwd())))\n",
    "# os.chdir(os.path.abspath(os.path.dirname(os.getcwd())))\n",
    "#os.chdir(os.path.abspath(os.path.dirname(os.getcwd())))\n",
    "print(os.getcwd()) \n",
    "\n",
    "# Dataframe显示格式\n",
    "from pandas import set_option\n",
    "set_option('display.max_info_rows',1000)\n",
    "set_option('display.max_rows',1000)\n",
    "set_option('display.max_columns',1000)\n",
    "set_option('display.max_colwidth',1000)\n",
    "set_option('display.float_format',lambda x : '%.4f' % x)"
   ]
  },
  {
   "cell_type": "code",
   "execution_count": 2,
   "id": "5506c635",
   "metadata": {},
   "outputs": [
    {
     "name": "stderr",
     "output_type": "stream",
     "text": [
      "C:\\Software\\miniconda3\\lib\\site-packages\\mpl_finance.py:16: DeprecationWarning: \n",
      "\n",
      "  =================================================================\n",
      "\n",
      "   WARNING: `mpl_finance` is deprecated:\n",
      "\n",
      "    Please use `mplfinance` instead (no hyphen, no underscore).\n",
      "\n",
      "    To install: `pip install --upgrade mplfinance` \n",
      "\n",
      "   For more information, see: https://pypi.org/project/mplfinance/\n",
      "\n",
      "  =================================================================\n",
      "\n",
      "  __warnings.warn('\\n\\n  ================================================================='+\n"
     ]
    }
   ],
   "source": [
    "from pandas import read_csv, read_excel\n",
    "from os import getcwd, sep, listdir\n",
    "from matplotlib import pyplot\n",
    "import re\n",
    "\n",
    "from matplotlib import pyplot\n",
    "from mpl_finance import candlestick_ohlc\n",
    "from pandas import concat\n",
    "from dateutil.parser import parse\n",
    "\n",
    "warnings.filterwarnings('ignore')"
   ]
  },
  {
   "cell_type": "code",
   "execution_count": 3,
   "id": "9f07d8cc",
   "metadata": {},
   "outputs": [],
   "source": [
    "def get_weight_from_zz(index_symbol: str):\n",
    "    \"\"\"\n",
    "    中证指数\n",
    "\n",
    "    :param index_symbol:\n",
    "    :return:\n",
    "    \"\"\"\n",
    "    weight = getcwd() + sep + r\"data\" + sep + r\"{}perf.xlsx\".format(index_symbol)\n",
    "    weight = read_excel(io=weight, dtype=str)\n",
    "    weight.columns = [''.join(re.findall(re.compile(u'[\\u4e00-\\u9fa5]'), i)) for i in weight.columns]\n",
    "    weight.loc[:, [\"开盘\", \"最高\", \"最低\", \"收盘\"]] = weight.loc[:, [\"开盘\", \"最高\", \"最低\", \"收盘\"]].astype(float)\n",
    "    weight[\"成交量\"] = (weight[\"成交量万手\"].astype(\"float64\") * 10000).astype(\"int64\")\n",
    "    weight = weight.sort_values(\"日期\").reset_index(drop=True)\n",
    "    return weight\n",
    "\n",
    "def get_weight_from_gz(index_symbol: str):\n",
    "    \"\"\"\n",
    "    国证指数\n",
    "\n",
    "    :param index_symbol:\n",
    "    :return:\n",
    "    \"\"\"\n",
    "    weight = listdir(getcwd() + sep + r\"data\")\n",
    "    weight = [i for i in weight if index_symbol in i and \"_perf_\" in i]\n",
    "    weight = weight[0]\n",
    "    weight = getcwd() + sep + r\"data\" + sep + weight\n",
    "    weight = read_excel(io=weight, dtype=str)\n",
    "    weight.columns = [''.join(re.findall(re.compile(u'[\\u4e00-\\u9fa5]'), i)) for i in weight.columns]\n",
    "    weight.loc[:, [\"开盘价\", \"最高价\", \"最低价\", \"收盘价\"]] = weight.loc[:, [\"开盘价\", \"最高价\", \"最低价\", \"收盘价\"]].astype(float)\n",
    "    weight[\"成交量\"] = (weight[\"成交量万手\"].astype(\"float64\") * 10000).astype(\"int64\")\n",
    "    weight = weight.sort_values(\"日期\").reset_index(drop=True)\n",
    "    return weight"
   ]
  },
  {
   "cell_type": "code",
   "execution_count": null,
   "id": "d850c4f7",
   "metadata": {},
   "outputs": [],
   "source": [
    "weight = dict()\n",
    "weight[\"中证全指\"] = get_weight_from_zz(\"000985\")\n",
    "weight[\"上证50\"] = get_weight_from_zz(\"000016\")\n",
    "weight[\"沪深300\"] = get_weight_from_zz(\"000300\")\n",
    "weight[\"中证500\"] = get_weight_from_zz(\"000905\")\n",
    "weight[\"中证1000\"] = get_weight_from_zz(\"000852\")\n",
    "weight[\"创业板指\"] = get_weight_from_gz(\"399006\")\n",
    "weight[\"深证100\"] = get_weight_from_gz(\"399330\")\n",
    "weight[\"国证1000\"] = get_weight_from_gz(\"399311\")\n",
    "weight[\"国证2000\"] = get_weight_from_gz(\"399303\")"
   ]
  },
  {
   "cell_type": "code",
   "execution_count": null,
   "id": "1d077963",
   "metadata": {},
   "outputs": [],
   "source": [
    "index_name = \"中证全指\"\n",
    "start_date= \"20181231\"\n",
    "\n",
    "data = weight[index_name].set_index(\"日期\")\n",
    "data.sort_index(inplace=True)\n",
    "data[\"成交量MA\"] = (data[\"成交量\"].rolling(5).mean().shift(1) + data[\"成交量\"].rolling(5).mean().shift(-5)) / 2\n",
    "data[\"成交量占比MA\"] = data[\"成交量\"] / data[\"成交量MA\"]\n",
    "data = data.loc[\"20181231\":]\n",
    "data[\"阴线\"] = data[\"收盘\"] < data[\"开盘\"]\n",
    "data.dropna(inplace=True)\n",
    "data = data.loc[data[\"阴线\"]].sort_values(\"成交量占比MA\",ascending=False)"
   ]
  },
  {
   "cell_type": "code",
   "execution_count": null,
   "id": "cf50cd09",
   "metadata": {},
   "outputs": [],
   "source": []
  },
  {
   "cell_type": "code",
   "execution_count": null,
   "id": "7c788eac",
   "metadata": {
    "scrolled": false
   },
   "outputs": [],
   "source": [
    "for label_date in data.index[:30]:\n",
    "    plot_data = weight[index_name].set_index(\"日期\")\n",
    "    plot_data = concat([plot_data.loc[:label_date].iloc[-60:], plot_data.loc[label_date:].iloc[1:61]])\n",
    "    plot_data.reset_index(drop=False, inplace=True)\n",
    "    label_line_idx = plot_data.loc[plot_data[\"日期\"] == label_date].index[0]\n",
    "\n",
    "    # 图\n",
    "    fig = pyplot.figure(figsize=(12, 10))\n",
    "    grid = pyplot.GridSpec(12, 10, wspace=0.5, hspace=0.5)\n",
    "\n",
    "    # （1）绘制K线图\n",
    "    # K线数据\n",
    "    ohlc = plot_data[['日期', '开盘', '最高', '最低', '收盘']]\n",
    "    ohlc.loc[:, '日期'] = range(len(ohlc))  # 重新赋值横轴数据，绘制K线图无间隔\n",
    "\n",
    "    # 5、绘制成交量\n",
    "    fig = pyplot.figure(figsize=(12, 10))\n",
    "    grid = pyplot.GridSpec(12, 10, wspace=0.5, hspace=0.5)\n",
    "\n",
    "    # 绘制K线\n",
    "    ax1 = fig.add_subplot(grid[0:8, 0:12])  # 设置K线图的尺寸\n",
    "    candlestick_ohlc(ax1, ohlc.values.tolist(), width=.7, colorup='red', colordown='green')\n",
    "    pyplot.title(\"{0}-{1}, Ratio:{2:.2f}, {3}-{4}\".format(\"中证全指\", label_date, data.loc[label_date, \"成交量占比MA\"], plot_data[\"日期\"][0], plot_data[\"日期\"].iloc[-1]), fontsize=14)  # 设置图片标题\n",
    "    pyplot.ylabel('价 格（元）', fontsize=14)  # 设置纵轴标题\n",
    "    ax1.set_xticks([])  # 日期标注在成交量中，故清空此处x轴刻度\n",
    "    ax1.set_xticklabels([])  # 日期标注在成交量中，故清空此处x轴 \n",
    "    pyplot.axvline(label_line_idx)\n",
    "\n",
    "    # （2）绘制成交量\n",
    "    # 成交量数据\n",
    "    data_volume = plot_data[['日期', '收盘', '开盘', '成交量']]\n",
    "    data_volume['color'] = data_volume.apply(lambda row: 1 if row['收盘'] >= row['开盘'] else 0,\n",
    "                                             axis=1)  # 计算成交量柱状图对应的颜色，使之与K线颜色一致\n",
    "    data_volume[\"日期\"] = ohlc[\"日期\"]\n",
    "    # 绘制成交量\n",
    "    ax2 = fig.add_subplot(grid[8:10, 0:12])  # 设置成交量图形尺寸\n",
    "    ax2.bar(data_volume.query('color==1')['日期'], data_volume.query('color==1')['成交量'], color='r')  # 绘制红色柱状图\n",
    "    ax2.bar(data_volume.query('color==0')['日期'], data_volume.query('color==0')['成交量'], color='g')  # 绘制绿色柱状图\n",
    "    pyplot.xticks(rotation=30)\n",
    "    pyplot.xlabel('日 期', fontsize=14)  # 设置横轴标题\n",
    "    # 修改横轴日期标注\n",
    "    date_list = ohlc.index.tolist()  # 获取日期列表\n",
    "    xticks_len = round(len(date_list) / (len(ax2.get_xticks()) - 1))  # 获取默认横轴标注的间隔\n",
    "    xticks_num = range(0, len(date_list), xticks_len)  # 生成横轴标注位置列表\n",
    "    xticks_str = list(map(lambda x: date_list[int(x)], xticks_num))  # 生成正在标注日期列表\n",
    "    ax2.set_xticks(xticks_num)  # 设置横轴标注位置\n",
    "    ax2.set_xticklabels(xticks_str)  # 设置横轴标注日期\n",
    "    pyplot.show()"
   ]
  },
  {
   "cell_type": "code",
   "execution_count": null,
   "id": "ec954c85",
   "metadata": {},
   "outputs": [],
   "source": []
  },
  {
   "cell_type": "code",
   "execution_count": null,
   "id": "f83048a0",
   "metadata": {},
   "outputs": [],
   "source": []
  },
  {
   "cell_type": "code",
   "execution_count": null,
   "id": "8ecce0e8",
   "metadata": {},
   "outputs": [],
   "source": []
  },
  {
   "cell_type": "code",
   "execution_count": null,
   "id": "50b9e36d",
   "metadata": {},
   "outputs": [],
   "source": []
  },
  {
   "cell_type": "code",
   "execution_count": null,
   "id": "8d07c232",
   "metadata": {},
   "outputs": [],
   "source": []
  },
  {
   "cell_type": "code",
   "execution_count": null,
   "id": "ae127d4a",
   "metadata": {},
   "outputs": [],
   "source": []
  },
  {
   "cell_type": "code",
   "execution_count": null,
   "id": "dc04badf",
   "metadata": {},
   "outputs": [],
   "source": []
  },
  {
   "cell_type": "code",
   "execution_count": null,
   "id": "d85e9a53",
   "metadata": {},
   "outputs": [],
   "source": []
  }
 ],
 "metadata": {
  "kernelspec": {
   "display_name": "Python 3 (ipykernel)",
   "language": "python",
   "name": "python3"
  },
  "language_info": {
   "codemirror_mode": {
    "name": "ipython",
    "version": 3
   },
   "file_extension": ".py",
   "mimetype": "text/x-python",
   "name": "python",
   "nbconvert_exporter": "python",
   "pygments_lexer": "ipython3",
   "version": "3.9.12"
  }
 },
 "nbformat": 4,
 "nbformat_minor": 5
}
