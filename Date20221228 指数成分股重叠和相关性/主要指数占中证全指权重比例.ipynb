{
 "cells": [
  {
   "cell_type": "code",
   "execution_count": 1,
   "id": "11b73bd5",
   "metadata": {},
   "outputs": [
    {
     "data": {
      "text/html": [
       "<style>.container { width:100% !important; }</style>"
      ],
      "text/plain": [
       "<IPython.core.display.HTML object>"
      ]
     },
     "metadata": {},
     "output_type": "display_data"
    },
    {
     "name": "stdout",
     "output_type": "stream",
     "text": [
      "Windows\n",
      "D:\\github\\xueqiu\\Date20221228 指数成分股重叠和相关性\n"
     ]
    }
   ],
   "source": [
    "# 设置cell宽度\n",
    "from IPython.display import display, HTML\n",
    "display(HTML(\"<style>.container { width:100% !important; }</style>\"))\n",
    "\n",
    "# 警告\n",
    "import warnings\n",
    "warnings.filterwarnings('ignore')\n",
    "\n",
    "# matplotlib\n",
    "from tqdm import tqdm\n",
    "from pprint import pprint\n",
    "from matplotlib import pylab\n",
    "from seaborn import set_style\n",
    "set_style(\"darkgrid\")\n",
    "%matplotlib inline\n",
    "\n",
    "# matplotlib 中文乱码、正负号乱码\n",
    "from platform import system\n",
    "os_name = system()\n",
    "print(os_name)\n",
    "\n",
    "from matplotlib import rcParams\n",
    "rcParams[\"axes.unicode_minus\"]=False #该语句解决图像中的“-”负号的乱码问题\n",
    "if os_name == r\"Windows\":\n",
    "    rcParams[\"font.sans-serif\"]=[\"SimHei\"] #设置字体\n",
    "elif os_name == r\"Darwin\":\n",
    "    rcParams['font.family'] = 'PingFang HK'\n",
    "else:\n",
    "    pass\n",
    "\n",
    "\n",
    "# 调整运行根目录\n",
    "import os\n",
    "# os.chdir(os.path.abspath(os.path.dirname(os.getcwd())))\n",
    "# os.chdir(os.path.abspath(os.path.dirname(os.getcwd())))\n",
    "#os.chdir(os.path.abspath(os.path.dirname(os.getcwd())))\n",
    "print(os.getcwd()) \n",
    "\n",
    "# Dataframe显示格式\n",
    "from pandas import set_option\n",
    "set_option('display.max_info_rows',1000)\n",
    "set_option('display.max_rows',1000)\n",
    "set_option('display.max_columns',1000)\n",
    "set_option('display.max_colwidth',1000)\n",
    "set_option('display.float_format',lambda x : '%.4f' % x)"
   ]
  },
  {
   "cell_type": "code",
   "execution_count": 2,
   "id": "c7397274",
   "metadata": {},
   "outputs": [],
   "source": [
    "from pandas import read_csv, read_excel\n",
    "from os import getcwd, sep\n",
    "from matplotlib import pyplot\n",
    "import re"
   ]
  },
  {
   "cell_type": "code",
   "execution_count": 3,
   "id": "0dfa38f8",
   "metadata": {},
   "outputs": [],
   "source": [
    "def get_weight_from_zz(index_symbol: str):\n",
    "    \"\"\"\n",
    "    中证指数\n",
    "\n",
    "    :param index_symbol:\n",
    "    :return:\n",
    "    \"\"\"\n",
    "    weight = getcwd() + sep + r\"data\" + sep + r\"{}closeweight.xls\".format(index_symbol)\n",
    "    weight = read_excel(io=weight, dtype=str)\n",
    "    weight.columns = [''.join(re.findall(re.compile(u'[\\u4e00-\\u9fa5]'), i)) for i in weight.columns]\n",
    "    weight[\"权重\"] = weight[\"权重\"].astype(float)\n",
    "    weight.sort_values(\"权重\", inplace=True, ascending=False)\n",
    "    weight = weight.set_index(\"成分券代码\")\n",
    "    weight.index.name = \"symbol\"\n",
    "    return weight\n",
    "\n",
    "\n",
    "def get_weight_from_gz(file_name: str):\n",
    "    \"\"\"\n",
    "    国证指数\n",
    "    :param file_name:\n",
    "    :return:\n",
    "    \"\"\"\n",
    "    weight = getcwd() + sep + r\"data\" + sep + r\"{}.xls\".format(file_name)\n",
    "    weight = read_excel(io=weight, dtype=str)\n",
    "    weight.columns = [''.join(re.findall(re.compile(u'[\\u4e00-\\u9fa5]'), i)) for i in weight.columns]\n",
    "    weight[\"权重\"] = weight[\"权重\"].astype(float)\n",
    "    weight.sort_values(\"权重\", inplace=True, ascending=False)\n",
    "    weight = weight.set_index(\"样本代码\")\n",
    "    weight.index.name = \"symbol\"\n",
    "    return weight"
   ]
  },
  {
   "cell_type": "code",
   "execution_count": 4,
   "id": "894f445a",
   "metadata": {},
   "outputs": [],
   "source": [
    "weight = dict()\n",
    "weight[\"中证全指\"] = get_weight_from_zz(\"000985\")\n",
    "weight[\"上证50\"] = get_weight_from_zz(\"000016\")\n",
    "weight[\"沪深300\"] = get_weight_from_zz(\"000300\")\n",
    "weight[\"中证500\"] = get_weight_from_zz(\"000905\")\n",
    "weight[\"中证1000\"] = get_weight_from_zz(\"000852\")"
   ]
  },
  {
   "cell_type": "code",
   "execution_count": 8,
   "id": "36564c8d",
   "metadata": {},
   "outputs": [],
   "source": [
    "weight[\"创业板指\"] = get_weight_from_gz(\"399006_cons_202211\")\n",
    "weight[\"深证100\"] = get_weight_from_gz(\"399330_cons_202211\")"
   ]
  },
  {
   "cell_type": "code",
   "execution_count": 17,
   "id": "bf4458ab",
   "metadata": {},
   "outputs": [
    {
     "data": {
      "text/plain": [
       "0.17684170532714766"
      ]
     },
     "execution_count": 17,
     "metadata": {},
     "output_type": "execute_result"
    }
   ],
   "source": [
    "weight[\"中证全指\"].loc[weight[\"上证50\"].index][\"权重\"].sum() / weight[\"中证全指\"][\"权重\"].sum()"
   ]
  },
  {
   "cell_type": "code",
   "execution_count": 16,
   "id": "2f64133d",
   "metadata": {},
   "outputs": [
    {
     "data": {
      "text/plain": [
       "100.016"
      ]
     },
     "execution_count": 16,
     "metadata": {},
     "output_type": "execute_result"
    }
   ],
   "source": []
  },
  {
   "cell_type": "code",
   "execution_count": null,
   "id": "23c86897",
   "metadata": {},
   "outputs": [],
   "source": []
  },
  {
   "cell_type": "code",
   "execution_count": null,
   "id": "944f66e6",
   "metadata": {},
   "outputs": [],
   "source": []
  },
  {
   "cell_type": "code",
   "execution_count": null,
   "id": "cd1c4a7d",
   "metadata": {},
   "outputs": [],
   "source": []
  },
  {
   "cell_type": "code",
   "execution_count": null,
   "id": "17dee3b1",
   "metadata": {},
   "outputs": [],
   "source": []
  },
  {
   "cell_type": "code",
   "execution_count": null,
   "id": "fcd904df",
   "metadata": {},
   "outputs": [],
   "source": []
  },
  {
   "cell_type": "code",
   "execution_count": null,
   "id": "6bd26360",
   "metadata": {},
   "outputs": [],
   "source": []
  },
  {
   "cell_type": "code",
   "execution_count": null,
   "id": "d18ca09c",
   "metadata": {},
   "outputs": [],
   "source": []
  },
  {
   "cell_type": "code",
   "execution_count": null,
   "id": "39ccd64a",
   "metadata": {},
   "outputs": [],
   "source": []
  },
  {
   "cell_type": "code",
   "execution_count": null,
   "id": "bdaf79c0",
   "metadata": {},
   "outputs": [],
   "source": []
  },
  {
   "cell_type": "code",
   "execution_count": null,
   "id": "3c15ebc2",
   "metadata": {},
   "outputs": [],
   "source": []
  },
  {
   "cell_type": "code",
   "execution_count": null,
   "id": "1bd6d949",
   "metadata": {},
   "outputs": [],
   "source": []
  },
  {
   "cell_type": "code",
   "execution_count": null,
   "id": "cca30e91",
   "metadata": {},
   "outputs": [],
   "source": []
  }
 ],
 "metadata": {
  "kernelspec": {
   "display_name": "Python 3 (ipykernel)",
   "language": "python",
   "name": "python3"
  },
  "language_info": {
   "codemirror_mode": {
    "name": "ipython",
    "version": 3
   },
   "file_extension": ".py",
   "mimetype": "text/x-python",
   "name": "python",
   "nbconvert_exporter": "python",
   "pygments_lexer": "ipython3",
   "version": "3.9.12"
  }
 },
 "nbformat": 4,
 "nbformat_minor": 5
}
